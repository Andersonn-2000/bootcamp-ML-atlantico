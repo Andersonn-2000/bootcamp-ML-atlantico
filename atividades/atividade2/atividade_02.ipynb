{
 "cells": [
  {
   "cell_type": "markdown",
   "metadata": {},
   "source": [
    "#### Questão 01"
   ]
  },
  {
   "cell_type": "code",
   "execution_count": 4,
   "metadata": {},
   "outputs": [],
   "source": [
    "def return_odd_values(values:list)->list:\n",
    "    list_values = []\n",
    "    for i in values:\n",
    "        if i % 2 != 0:\n",
    "            list_values.append(i)\n",
    "    return list_values"
   ]
  },
  {
   "cell_type": "code",
   "execution_count": 7,
   "metadata": {},
   "outputs": [
    {
     "name": "stdout",
     "output_type": "stream",
     "text": [
      "[1, 3, 5, 7, 9]\n"
     ]
    }
   ],
   "source": [
    "# Exemplo de uso\n",
    "list_values = [1,2,3,4,5,6,7,8,9,10]\n",
    "print(return_odd_values(list_values))"
   ]
  },
  {
   "cell_type": "markdown",
   "metadata": {},
   "source": [
    "#### Questão 02"
   ]
  },
  {
   "cell_type": "code",
   "execution_count": 9,
   "metadata": {},
   "outputs": [],
   "source": [
    "def return_prime_values(values: list)-> list:\n",
    "    prime_values = []\n",
    "    for number in values:\n",
    "        if number > 1 and all(number % i != 0 for i in range(2, int(number ** 0.5) + 1)):\n",
    "            prime_values.append(number)\n",
    "    return prime_values"
   ]
  },
  {
   "cell_type": "code",
   "execution_count": 10,
   "metadata": {},
   "outputs": [
    {
     "name": "stdout",
     "output_type": "stream",
     "text": [
      "[2, 3, 5, 7]\n"
     ]
    }
   ],
   "source": [
    "# Exemplo de uso\n",
    "prime_values = [1,2,3,4,5,6,7,8,9,10]\n",
    "print(return_prime_values(prime_values))"
   ]
  },
  {
   "cell_type": "markdown",
   "metadata": {},
   "source": [
    "#### Questão 03"
   ]
  },
  {
   "cell_type": "code",
   "execution_count": null,
   "metadata": {},
   "outputs": [],
   "source": [
    "def return_values(list_1: list, list_2: list)->list:\n",
    "    dict_1, dict_2 = set(list_1), set(list_2) # eliminar duplicatas\n",
    "    return list(dict_1 ^ dict_2)"
   ]
  },
  {
   "cell_type": "code",
   "execution_count": 12,
   "metadata": {},
   "outputs": [
    {
     "name": "stdout",
     "output_type": "stream",
     "text": [
      "[3, 6, 8, 9]\n"
     ]
    }
   ],
   "source": [
    "# Exemplo de uso\n",
    "list_1 = [1,2,3,4,5,6]\n",
    "list_2 = [2,5,8,9,4,1]\n",
    "print(return_values(list_1, list_2))"
   ]
  },
  {
   "cell_type": "markdown",
   "metadata": {},
   "source": [
    "#### Questão 04"
   ]
  },
  {
   "cell_type": "code",
   "execution_count": 13,
   "metadata": {},
   "outputs": [],
   "source": [
    "def second_high_value(list_numbers: list)->int:\n",
    "    list_unique = list(set(list_numbers)) # remove duplicatas, caso exista\n",
    "    list_unique.sort(reverse=True) # Ordena a lista do maior para o menor\n",
    "    \n",
    "    if len(list_unique) < 2:\n",
    "        return None # caso não exista segundo maior\n",
    "    return list_unique[1]"
   ]
  },
  {
   "cell_type": "code",
   "execution_count": 16,
   "metadata": {},
   "outputs": [
    {
     "name": "stdout",
     "output_type": "stream",
     "text": [
      "15\n"
     ]
    }
   ],
   "source": [
    "# Exemplo de uso\n",
    "list_values = [10, 15, 8, 9, 0, 20]\n",
    "print(second_high_value(list_values))"
   ]
  },
  {
   "cell_type": "markdown",
   "metadata": {},
   "source": [
    "#### Questão 05"
   ]
  },
  {
   "cell_type": "code",
   "execution_count": null,
   "metadata": {},
   "outputs": [],
   "source": [
    "def order_by_names(list_peoples:list)->list:\n",
    "    return sorted(list_peoples, key = lambda x: x[0])"
   ]
  },
  {
   "cell_type": "code",
   "execution_count": 22,
   "metadata": {},
   "outputs": [
    {
     "name": "stdout",
     "output_type": "stream",
     "text": [
      "[('Bill Gates', 78), ('Jhon', 30), ('Maria', 23), ('Steve Jobs', 57)]\n"
     ]
    }
   ],
   "source": [
    "# Exemplo de uso\n",
    "list_peoples = [\n",
    "    (\"Jhon\", 30), (\"Maria\", 23), (\"Bill Gates\", 78), (\"Steve Jobs\", 57)\n",
    "]\n",
    "print(order_by_names(list_peoples))"
   ]
  },
  {
   "cell_type": "markdown",
   "metadata": {},
   "source": [
    "#### Questão 06\n",
    "\n",
    "import matplotlib.pyplot as plt\n",
    "import numpy as np\n",
    "\n",
    "fig, axs = plt.subplots(ncols=2, nrows=2, figsize=(5.5, 3.5),\n",
    "                layout=\"constrained\")\n",
    "\n",
    "#\n",
    "for _row_ in range(2):\n",
    "#\n",
    "    for _col_ in range(2):\n",
    "        axs[row, col].annotate(f'axs[{row}, {col}]', (0.5, 0.5),\n",
    "                        transform=axs[row, col].transAxes,\n",
    "                        ha='center', va='center', _fontsize_=18,\n",
    "                        color='darkgrey')\n",
    "fig.suptitle('plt.subplots()')"
   ]
  },
  {
   "cell_type": "markdown",
   "metadata": {},
   "source": [
    "#### Questão 07\n",
    "\n",
    "import numpy as np\n",
    "#\n",
    "import matplotlib as mpl\n",
    "#\n",
    "import matplotlib.pyplot as plt\n",
    "#\n",
    "x = np.linspace(-2 * np.pi, 2 * np.pi, 100)\n",
    "#\n",
    "y = np.sin(x)\n",
    "#\n",
    "_fig_, _ax_ = plt.subplots()\n",
    "#\n",
    "ax._plot_(x, y)\n"
   ]
  },
  {
   "cell_type": "markdown",
   "metadata": {},
   "source": [
    "#### Questão 08\n",
    "\n",
    "import pandas as pd\n",
    "\n",
    "df = pd.read_csv('nome/caminho_do_arquivo.csv')\n",
    "df.head()"
   ]
  },
  {
   "cell_type": "markdown",
   "metadata": {},
   "source": [
    "#### Questão 09\n",
    "\n",
    "Exemplo de aplicação:\n",
    "\n",
    "\n",
    "import pandas as pd\n",
    "import numpy as np\n",
    "\n",
    "##### Criando um DataFrame de exemplo\n",
    "dados = {'Nome': ['Ana', 'Bruno', 'Carlos', 'Daniela'],\n",
    "         'Idade': [25, 28, np.nan, 22]}\n",
    "\n",
    "df = pd.DataFrame(dados)\n",
    "\n",
    "###### Selecionar uma coluna específica\n",
    "coluna_idade = df['Idade']\n",
    "\n",
    "##### Filtrar linhas onde a idade é maior que 25\n",
    "df_filtrado = df[df['Idade'] > 25]\n",
    "\n",
    "print(coluna_idade)  # Exibe a coluna 'Idade'\n",
    "print(df_filtrado)   # Exibe o DataFrame filtrado"
   ]
  },
  {
   "cell_type": "markdown",
   "metadata": {},
   "source": [
    "#### Questão 10\n",
    "\n",
    "Exemplo de aplicação:\n",
    "\n",
    "\n",
    "import pandas as pd\n",
    "\n",
    "##### Criando um DataFrame de exemplo\n",
    "dados = {'Nome': ['Ana', 'Bruno', 'Carlos', 'Daniela'],\n",
    "         'Idade': [25, 28, np.nan, 22]}\n",
    "\n",
    "df = pd.DataFrame(dados)\n",
    "\n",
    "##### 1.Identificar valores ausentes\n",
    "df.isna().sum()\n",
    "\n",
    "##### 2.Podemos remover valores ausentes\n",
    "df.dropna(inplace=True)  # Remove linhas com valores NaN\n",
    "#### ou\n",
    "df.dropna(axis=1, inplace=True)  # Remove colunas com valores NaN\n",
    "\n",
    "##### 3.Podemos preencher valores ausentes\n",
    "df.fillna(0, inplace=True)  # Substitui NaN por 0\n",
    "#### ou\n",
    "df.fillna(df.mean(), inplace=True)  # Substitui NaN pela média da coluna"
   ]
  }
 ],
 "metadata": {
  "kernelspec": {
   "display_name": "optimization",
   "language": "python",
   "name": "python3"
  },
  "language_info": {
   "codemirror_mode": {
    "name": "ipython",
    "version": 3
   },
   "file_extension": ".py",
   "mimetype": "text/x-python",
   "name": "python",
   "nbconvert_exporter": "python",
   "pygments_lexer": "ipython3",
   "version": "3.13.2"
  }
 },
 "nbformat": 4,
 "nbformat_minor": 2
}
